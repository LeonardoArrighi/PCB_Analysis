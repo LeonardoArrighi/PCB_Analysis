{
  "cells": [
    {
      "cell_type": "markdown",
      "metadata": {},
      "source": [
        "# CAM application\n",
        "Notebook developped on colab (for various techniqcal reasons) to run CAM-based techniques on the dataset loaded on drive."
      ]
    },
    {
      "cell_type": "code",
      "execution_count": null,
      "metadata": {
        "colab": {
          "base_uri": "https://localhost:8080/"
        },
        "id": "ADn7VmfFHe_a",
        "outputId": "a4244543-784d-42f7-8ae6-e48ec4099726"
      },
      "outputs": [
        {
          "name": "stdout",
          "output_type": "stream",
          "text": [
            "Mounted at /content/drive\n"
          ]
        }
      ],
      "source": [
        "# link colab and drive\n",
        "from google.colab import drive\n",
        "drive.mount(\"/content/drive\", force_remount=True)\n",
        "# then follow passages"
      ]
    },
    {
      "cell_type": "markdown",
      "metadata": {
        "id": "9J1HSgJ16Rql"
      },
      "source": [
        "# Start"
      ]
    },
    {
      "cell_type": "code",
      "execution_count": null,
      "metadata": {
        "id": "K4KYvzPj1p--"
      },
      "outputs": [],
      "source": [
        "%matplotlib inline\n",
        "\n",
        "import matplotlib.pyplot as plt\n",
        "import numpy as np\n",
        "from tqdm import tqdm\n",
        "from PIL import Image\n",
        "import os\n",
        "\n",
        "import torch\n",
        "from torch import nn\n",
        "import timm\n",
        "from pytorch_grad_cam import GradCAM, GradCAMPlusPlus, ScoreCAM, HiResCAM,  GradCAMElementWise, XGradCAM, LayerCAM, EigenCAM, AblationCAM, FullGrad, EigenGradCAM\n",
        "from pytorch_grad_cam.utils.image import show_cam_on_image, preprocess_image"
      ]
    },
    {
      "cell_type": "code",
      "execution_count": null,
      "metadata": {
        "colab": {
          "base_uri": "https://localhost:8080/"
        },
        "id": "A3nuiraA9oDD",
        "outputId": "51ab16e5-4e9e-4394-ee0c-c7ba5deb49a9"
      },
      "outputs": [
        {
          "name": "stdout",
          "output_type": "stream",
          "text": [
            "Device: cuda:0\n"
          ]
        }
      ],
      "source": [
        "# cuda or cpu (choose flag)\n",
        "device = torch.device(\"cuda:0\" if torch.cuda.is_available() else \"cpu\")\n",
        "print(\"Device: {}\".format(device))"
      ]
    },
    {
      "cell_type": "code",
      "execution_count": null,
      "metadata": {
        "id": "yGJdJBiy-Vq8"
      },
      "outputs": [],
      "source": [
        "# # mean and standard deviation of the train dataset\n",
        "# MEAN = [0.3895, 0.4890, 0.4233]\n",
        "# STD = [0.2877, 0.2396, 0.2902]\n",
        "\n",
        "# IMAGE_SIZE = 768"
      ]
    },
    {
      "cell_type": "code",
      "execution_count": null,
      "metadata": {
        "id": "V64_70Djfq1p"
      },
      "outputs": [],
      "source": [
        "# utility function to display heatmap\n",
        "def make_image(data, outputname, size=(20, 16), dpi=64):\n",
        "    fig = plt.figure()\n",
        "    fig.set_size_inches(size)\n",
        "    ax = plt.Axes(fig, [0., 0., 1., 1.])\n",
        "    ax.set_axis_off()\n",
        "    fig.add_axes(ax)\n",
        "    plt.set_cmap('hot')\n",
        "    ax.imshow(data, aspect='equal')\n",
        "    plt.savefig(outputname, dpi=dpi)\n",
        "    plt.close()\n",
        "    plt.clf()"
      ]
    },
    {
      "cell_type": "code",
      "execution_count": null,
      "metadata": {
        "id": "7JBScutvPlNR"
      },
      "outputs": [],
      "source": [
        "# modification of the library to avoid the preprocess of the image\n",
        "from torchvision.transforms import Compose, Normalize, ToTensor\n",
        "\n",
        "def preprocess_image_2(\n",
        "    img: np.ndarray, mean=[0.5, 0.5, 0.5], std=[0.5, 0.5, 0.5]) -> torch.Tensor:\n",
        "    preprocessing = Compose([\n",
        "            ToTensor(),\n",
        "            # Normalize(mean=mean, std=std)\n",
        "            ])\n",
        "    return preprocessing(img.copy()).unsqueeze(0)"
      ]
    },
    {
      "cell_type": "code",
      "execution_count": null,
      "metadata": {
        "id": "q9i6mYj9RrLr"
      },
      "outputs": [],
      "source": [
        "maps = ['AblationCAM',\n",
        " 'EigenCAM',\n",
        " 'EigenGradCAM',\n",
        " 'FullGrad',\n",
        " 'GradCAM',\n",
        " 'GradCAMElementWise',\n",
        " 'GradCAMPlusPlus',\n",
        " 'HiResCAM',\n",
        " 'LayerCAM',\n",
        " 'XGradCAM'\n",
        " ]"
      ]
    },
    {
      "cell_type": "markdown",
      "metadata": {
        "id": "QiNXZt5QfyrZ"
      },
      "source": [
        "# CAM"
      ]
    },
    {
      "cell_type": "code",
      "execution_count": null,
      "metadata": {
        "id": "-_N7XOdxQ4Tk"
      },
      "outputs": [],
      "source": [
        "# Central function used to easily apply all the CAM-based techniques\n",
        "\n",
        "def one_only(device, path, where_model, version, cam_type):\n",
        "    # load model...\n",
        "\n",
        "    model = timm.create_model('resnet50d', pretrained=True)\n",
        "\n",
        "    model.fc = nn.Sequential(\n",
        "        nn.Linear(2048, 512),\n",
        "        nn.ReLU(),\n",
        "        nn.Dropout(0.1),\n",
        "        nn.Linear(512, 2),\n",
        "    )\n",
        "\n",
        "    model = model.to(device)\n",
        "\n",
        "    # load its weights\n",
        "    final = torch.load(where_model,  map_location='cuda:0')\n",
        "    model.load_state_dict(final['model_state_dict'])\n",
        "\n",
        "    model = model.eval()\n",
        "\n",
        "    for filename in tqdm(os.listdir(path)):\n",
        "\n",
        "        # image setting\n",
        "        pp = path+filename\n",
        "        rgb_img = np.array(Image.open(str(pp)))\n",
        "        rgb_img = np.float32(rgb_img) / 255\n",
        "        input_tensor = preprocess_image_2(rgb_img)#, mean=MEAN, std=STD)\n",
        "\n",
        "        # model + image\n",
        "        input_tensor = input_tensor.to(device)\n",
        "\n",
        "        output = model(input_tensor)\n",
        "        index = (torch.max(output, 1)).indices.item()\n",
        "\n",
        "        # print(output.softmax(dim=1), ' --- ', index )\n",
        "\n",
        "        # layers = [model.layer1[-1], model.layer2[-1], model.layer3[-1], model.layer4[-1]] # <-- modify if need different names\n",
        "        layers = [model.layer4[-1]]\n",
        "        name = 0\n",
        "\n",
        "        for layer in layers:\n",
        "\n",
        "            name += 1\n",
        "\n",
        "            if cam_type == 'AblationCAM':\n",
        "              cam = AblationCAM(model = model, target_layers=[layer], use_cuda=True)\n",
        "            if cam_type == 'EigenCAM':\n",
        "              cam = EigenCAM(model = model, target_layers=[layer], use_cuda=True)\n",
        "            if cam_type == 'EigenGradCAM':\n",
        "              cam = EigenGradCAM(model = model, target_layers=[layer], use_cuda=True)\n",
        "            if cam_type == 'FullGrad':\n",
        "              cam = FullGrad(model = model, target_layers=[layer], use_cuda=True)\n",
        "            if cam_type == 'GradCAM':\n",
        "              cam = GradCAM(model = model, target_layers=[layer], use_cuda=True)\n",
        "            if cam_type == 'GradCAMElementWise':\n",
        "              cam = GradCAMElementWise(model = model, target_layers=[layer], use_cuda=True)\n",
        "            if cam_type == 'GradCAMPlusPlus':\n",
        "              cam = GradCAMPlusPlus(model = model, target_layers=[layer], use_cuda=True)\n",
        "            if cam_type == 'HiResCAM':\n",
        "              cam = HiResCAM(model = model, target_layers=[layer], use_cuda=True)\n",
        "            if cam_type == 'LayerCAM':\n",
        "              cam = LayerCAM(model = model, target_layers=[layer], use_cuda=True)\n",
        "            if cam_type == 'XGradCAM':\n",
        "              cam = XGradCAM(model = model, target_layers=[layer], use_cuda=True)\n",
        "\n",
        "            grayscale_cam = cam(input_tensor=input_tensor)#, aug_smooth=True, eigen_smooth=True)\n",
        "            grayscale_cam = grayscale_cam[0, :]\n",
        "\n",
        "            visualization = show_cam_on_image(rgb_img, grayscale_cam, use_rgb=True, image_weight = 0) # param image_weight: The final result is image_weight * img + (1-image_weight) * mask\n",
        "\n",
        "\n",
        "            os.makedirs(f'/content/drive/MyDrive/Oliogel/cam_res/{cam_type}_{version}/{name}', exist_ok=True)\n",
        "            os.makedirs(f'/content/drive/MyDrive/Oliogel/cam_res/{cam_type}/D_cam', exist_ok=True)\n",
        "\n",
        "            where_gc = os.path.join(f'/content/drive/MyDrive/Oliogel/cam_res/{cam_type}_{version}/{name}', f'{filename}___{index}'.replace('.tif',''))\n",
        "            where_cam = os.path.join(f'/content/drive/MyDrive/Oliogel/cam_res/{cam_type}/D_cam/{layer}', f'{filename}___{index}'.replace('.tif',''))\n",
        "\n",
        "            np.savetxt(f\"{where_cam}.csv\", grayscale_cam, delimiter=\",\")\n",
        "            make_image(visualization, f'{where_gc}.png')"
      ]
    },
    {
      "cell_type": "code",
      "execution_count": null,
      "metadata": {
        "colab": {
          "base_uri": "https://localhost:8080/",
          "height": 53
        },
        "id": "Wu77RMDtWlar",
        "outputId": "639a5752-e3d9-4f5f-8726-9d885e22f4e6"
      },
      "outputs": [
        {
          "name": "stderr",
          "output_type": "stream",
          "text": [
            "100%|██████████| 24/24 [00:22<00:00,  1.09it/s]\n"
          ]
        },
        {
          "data": {
            "text/plain": [
              "<Figure size 640x480 with 0 Axes>"
            ]
          },
          "metadata": {},
          "output_type": "display_data"
        }
      ],
      "source": [
        "one_only(device = device,\n",
        "         path = '/content/drive/MyDrive/Oliogel/TEST_5/test_set/',\n",
        "         where_model = '/content/drive/MyDrive/Oliogel/model/model.pth',\n",
        "         version = '5',\n",
        "         cam_type = 'LayerCAM')"
      ]
    }
  ],
  "metadata": {
    "accelerator": "GPU",
    "colab": {
      "provenance": []
    },
    "kernelspec": {
      "display_name": "Python 3",
      "name": "python3"
    },
    "language_info": {
      "name": "python"
    }
  },
  "nbformat": 4,
  "nbformat_minor": 0
}
